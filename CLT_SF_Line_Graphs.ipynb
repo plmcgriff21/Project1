{
 "cells": [
  {
   "cell_type": "code",
   "execution_count": 2,
   "metadata": {},
   "outputs": [],
   "source": [
    "import os\n",
    "import pandas as pd \n",
    "import csv\n",
    "import matplotlib.pyplot as plt\n",
    "import numpy as np\n",
    "import scipy.stats as sts "
   ]
  },
  {
   "cell_type": "code",
   "execution_count": 30,
   "metadata": {},
   "outputs": [
    {
     "data": {
      "text/html": [
       "<div>\n",
       "<style scoped>\n",
       "    .dataframe tbody tr th:only-of-type {\n",
       "        vertical-align: middle;\n",
       "    }\n",
       "\n",
       "    .dataframe tbody tr th {\n",
       "        vertical-align: top;\n",
       "    }\n",
       "\n",
       "    .dataframe thead th {\n",
       "        text-align: right;\n",
       "    }\n",
       "</style>\n",
       "<table border=\"1\" class=\"dataframe\">\n",
       "  <thead>\n",
       "    <tr style=\"text-align: right;\">\n",
       "      <th></th>\n",
       "      <th>Year</th>\n",
       "      <th>City</th>\n",
       "      <th>Household Income</th>\n",
       "      <th>Population</th>\n",
       "      <th>Per Capita Income</th>\n",
       "      <th>Poverty Count</th>\n",
       "      <th>Unemployment Count</th>\n",
       "      <th>State ID</th>\n",
       "      <th>Place ID</th>\n",
       "    </tr>\n",
       "  </thead>\n",
       "  <tbody>\n",
       "    <tr>\n",
       "      <th>0</th>\n",
       "      <td>2011</td>\n",
       "      <td>Charlotte city, North Carolina</td>\n",
       "      <td>53146.0</td>\n",
       "      <td>722234.0</td>\n",
       "      <td>31667.0</td>\n",
       "      <td>106321.0</td>\n",
       "      <td>40293.0</td>\n",
       "      <td>37</td>\n",
       "      <td>12000</td>\n",
       "    </tr>\n",
       "    <tr>\n",
       "      <th>1</th>\n",
       "      <td>2011</td>\n",
       "      <td>San Francisco city, California</td>\n",
       "      <td>72947.0</td>\n",
       "      <td>797983.0</td>\n",
       "      <td>46777.0</td>\n",
       "      <td>96801.0</td>\n",
       "      <td>36368.0</td>\n",
       "      <td>6</td>\n",
       "      <td>67000</td>\n",
       "    </tr>\n",
       "    <tr>\n",
       "      <th>2</th>\n",
       "      <td>2012</td>\n",
       "      <td>Charlotte city, North Carolina</td>\n",
       "      <td>52916.0</td>\n",
       "      <td>740931.0</td>\n",
       "      <td>31653.0</td>\n",
       "      <td>116542.0</td>\n",
       "      <td>43508.0</td>\n",
       "      <td>37</td>\n",
       "      <td>12000</td>\n",
       "    </tr>\n",
       "    <tr>\n",
       "      <th>3</th>\n",
       "      <td>2012</td>\n",
       "      <td>San Francisco city, California</td>\n",
       "      <td>73802.0</td>\n",
       "      <td>807755.0</td>\n",
       "      <td>47278.0</td>\n",
       "      <td>104784.0</td>\n",
       "      <td>39369.0</td>\n",
       "      <td>6</td>\n",
       "      <td>67000</td>\n",
       "    </tr>\n",
       "    <tr>\n",
       "      <th>4</th>\n",
       "      <td>2013</td>\n",
       "      <td>Charlotte city, North Carolina</td>\n",
       "      <td>52375.0</td>\n",
       "      <td>757278.0</td>\n",
       "      <td>31556.0</td>\n",
       "      <td>127166.0</td>\n",
       "      <td>47673.0</td>\n",
       "      <td>37</td>\n",
       "      <td>12000</td>\n",
       "    </tr>\n",
       "    <tr>\n",
       "      <th>5</th>\n",
       "      <td>2013</td>\n",
       "      <td>San Francisco city, California</td>\n",
       "      <td>75604.0</td>\n",
       "      <td>817501.0</td>\n",
       "      <td>48486.0</td>\n",
       "      <td>108306.0</td>\n",
       "      <td>41148.0</td>\n",
       "      <td>6</td>\n",
       "      <td>67000</td>\n",
       "    </tr>\n",
       "    <tr>\n",
       "      <th>6</th>\n",
       "      <td>2014</td>\n",
       "      <td>Charlotte city, North Carolina</td>\n",
       "      <td>53274.0</td>\n",
       "      <td>774807.0</td>\n",
       "      <td>31844.0</td>\n",
       "      <td>131826.0</td>\n",
       "      <td>46895.0</td>\n",
       "      <td>37</td>\n",
       "      <td>12000</td>\n",
       "    </tr>\n",
       "    <tr>\n",
       "      <th>7</th>\n",
       "      <td>2014</td>\n",
       "      <td>San Francisco city, California</td>\n",
       "      <td>78378.0</td>\n",
       "      <td>829072.0</td>\n",
       "      <td>49986.0</td>\n",
       "      <td>108328.0</td>\n",
       "      <td>38318.0</td>\n",
       "      <td>6</td>\n",
       "      <td>67000</td>\n",
       "    </tr>\n",
       "    <tr>\n",
       "      <th>8</th>\n",
       "      <td>2015</td>\n",
       "      <td>Charlotte city, North Carolina</td>\n",
       "      <td>53637.0</td>\n",
       "      <td>792137.0</td>\n",
       "      <td>32254.0</td>\n",
       "      <td>131404.0</td>\n",
       "      <td>42383.0</td>\n",
       "      <td>37</td>\n",
       "      <td>12000</td>\n",
       "    </tr>\n",
       "    <tr>\n",
       "      <th>9</th>\n",
       "      <td>2015</td>\n",
       "      <td>San Francisco city, California</td>\n",
       "      <td>81294.0</td>\n",
       "      <td>840763.0</td>\n",
       "      <td>52220.0</td>\n",
       "      <td>109524.0</td>\n",
       "      <td>34785.0</td>\n",
       "      <td>6</td>\n",
       "      <td>67000</td>\n",
       "    </tr>\n",
       "    <tr>\n",
       "      <th>10</th>\n",
       "      <td>2016</td>\n",
       "      <td>Charlotte city, North Carolina</td>\n",
       "      <td>55599.0</td>\n",
       "      <td>808834.0</td>\n",
       "      <td>33050.0</td>\n",
       "      <td>125793.0</td>\n",
       "      <td>38623.0</td>\n",
       "      <td>37</td>\n",
       "      <td>12000</td>\n",
       "    </tr>\n",
       "    <tr>\n",
       "      <th>11</th>\n",
       "      <td>2016</td>\n",
       "      <td>San Francisco city, California</td>\n",
       "      <td>87701.0</td>\n",
       "      <td>850282.0</td>\n",
       "      <td>55567.0</td>\n",
       "      <td>104180.0</td>\n",
       "      <td>32234.0</td>\n",
       "      <td>6</td>\n",
       "      <td>67000</td>\n",
       "    </tr>\n",
       "    <tr>\n",
       "      <th>12</th>\n",
       "      <td>2017</td>\n",
       "      <td>Charlotte city, North Carolina</td>\n",
       "      <td>58202.0</td>\n",
       "      <td>826060.0</td>\n",
       "      <td>34687.0</td>\n",
       "      <td>121412.0</td>\n",
       "      <td>34115.0</td>\n",
       "      <td>37</td>\n",
       "      <td>12000</td>\n",
       "    </tr>\n",
       "    <tr>\n",
       "      <th>13</th>\n",
       "      <td>2017</td>\n",
       "      <td>San Francisco city, California</td>\n",
       "      <td>96265.0</td>\n",
       "      <td>864263.0</td>\n",
       "      <td>59508.0</td>\n",
       "      <td>99096.0</td>\n",
       "      <td>29102.0</td>\n",
       "      <td>6</td>\n",
       "      <td>67000</td>\n",
       "    </tr>\n",
       "    <tr>\n",
       "      <th>14</th>\n",
       "      <td>2018</td>\n",
       "      <td>Charlotte city, North Carolina</td>\n",
       "      <td>60886.0</td>\n",
       "      <td>841611.0</td>\n",
       "      <td>36426.0</td>\n",
       "      <td>115699.0</td>\n",
       "      <td>29544.0</td>\n",
       "      <td>37</td>\n",
       "      <td>12000</td>\n",
       "    </tr>\n",
       "    <tr>\n",
       "      <th>15</th>\n",
       "      <td>2018</td>\n",
       "      <td>San Francisco city, California</td>\n",
       "      <td>104552.0</td>\n",
       "      <td>870044.0</td>\n",
       "      <td>64157.0</td>\n",
       "      <td>92979.0</td>\n",
       "      <td>25320.0</td>\n",
       "      <td>6</td>\n",
       "      <td>67000</td>\n",
       "    </tr>\n",
       "  </tbody>\n",
       "</table>\n",
       "</div>"
      ],
      "text/plain": [
       "    Year                            City  Household Income  Population  \\\n",
       "0   2011  Charlotte city, North Carolina           53146.0    722234.0   \n",
       "1   2011  San Francisco city, California           72947.0    797983.0   \n",
       "2   2012  Charlotte city, North Carolina           52916.0    740931.0   \n",
       "3   2012  San Francisco city, California           73802.0    807755.0   \n",
       "4   2013  Charlotte city, North Carolina           52375.0    757278.0   \n",
       "5   2013  San Francisco city, California           75604.0    817501.0   \n",
       "6   2014  Charlotte city, North Carolina           53274.0    774807.0   \n",
       "7   2014  San Francisco city, California           78378.0    829072.0   \n",
       "8   2015  Charlotte city, North Carolina           53637.0    792137.0   \n",
       "9   2015  San Francisco city, California           81294.0    840763.0   \n",
       "10  2016  Charlotte city, North Carolina           55599.0    808834.0   \n",
       "11  2016  San Francisco city, California           87701.0    850282.0   \n",
       "12  2017  Charlotte city, North Carolina           58202.0    826060.0   \n",
       "13  2017  San Francisco city, California           96265.0    864263.0   \n",
       "14  2018  Charlotte city, North Carolina           60886.0    841611.0   \n",
       "15  2018  San Francisco city, California          104552.0    870044.0   \n",
       "\n",
       "    Per Capita Income  Poverty Count  Unemployment Count  State ID  Place ID  \n",
       "0             31667.0       106321.0             40293.0        37     12000  \n",
       "1             46777.0        96801.0             36368.0         6     67000  \n",
       "2             31653.0       116542.0             43508.0        37     12000  \n",
       "3             47278.0       104784.0             39369.0         6     67000  \n",
       "4             31556.0       127166.0             47673.0        37     12000  \n",
       "5             48486.0       108306.0             41148.0         6     67000  \n",
       "6             31844.0       131826.0             46895.0        37     12000  \n",
       "7             49986.0       108328.0             38318.0         6     67000  \n",
       "8             32254.0       131404.0             42383.0        37     12000  \n",
       "9             52220.0       109524.0             34785.0         6     67000  \n",
       "10            33050.0       125793.0             38623.0        37     12000  \n",
       "11            55567.0       104180.0             32234.0         6     67000  \n",
       "12            34687.0       121412.0             34115.0        37     12000  \n",
       "13            59508.0        99096.0             29102.0         6     67000  \n",
       "14            36426.0       115699.0             29544.0        37     12000  \n",
       "15            64157.0        92979.0             25320.0         6     67000  "
      ]
     },
     "execution_count": 30,
     "metadata": {},
     "output_type": "execute_result"
    }
   ],
   "source": [
    "final_census_data = pd.read_csv(\"final_census_data.csv\")\n",
    "organized_census_data = pd.read_csv(\"organized_census_data.csv\")\n",
    "organized_census_data"
   ]
  },
  {
   "cell_type": "code",
   "execution_count": 35,
   "metadata": {},
   "outputs": [],
   "source": [
    "charlotte_data = organized_census_data.loc[(organized_census_data['City']=='Charlotte city, North Carolina')]\n",
    "san_francisco_data = organized_census_data.loc[(organized_census_data['City']=='San Francisco city, California')]\n",
    "\n",
    "years = [2011, 2012, 2013, 2014, 2015, 2016, 2017, 2018]"
   ]
  },
  {
   "cell_type": "code",
   "execution_count": 48,
   "metadata": {},
   "outputs": [
    {
     "data": {
      "image/png": "[encoded data removed]",
      "text/plain": [
       "<Figure size 432x288 with 1 Axes>"
      ]
     },
     "metadata": {
      "needs_background": "light"
     },
     "output_type": "display_data"
    },
    {
     "data": {
      "text/plain": [
       "<Figure size 432x288 with 0 Axes>"
      ]
     },
     "metadata": {},
     "output_type": "display_data"
    }
   ],
   "source": [
    "#Population Line Graph\n",
    "charlotte_plot = plt.plot(years, charlotte_data['Population'] , color='blue', label = 'Charlotte')\n",
    "san_francisco_plot = plt.plot(years, san_francisco_data['Population'] , color='red', label = 'San Francisco')\n",
    "\n",
    "plt.legend(loc=\"best\")\n",
    "\n",
    "plt.title('Charlotte vs San Francisco Population')\n",
    "plt.xlabel(\"Year\")\n",
    "plt.ylabel(\"Population\")\n",
    "\n",
    "plt.show()\n",
    "plt.savefig(\"LinegraphFigs/CLT_vs_SF_Population\")"
   ]
  },
  {
   "cell_type": "code",
   "execution_count": 49,
   "metadata": {},
   "outputs": [
    {
     "data": {
      "image/png": "[encoded data removed]",
      "text/plain": [
       "<Figure size 432x288 with 1 Axes>"
      ]
     },
     "metadata": {
      "needs_background": "light"
     },
     "output_type": "display_data"
    },
    {
     "data": {
      "text/plain": [
       "<Figure size 432x288 with 0 Axes>"
      ]
     },
     "metadata": {},
     "output_type": "display_data"
    }
   ],
   "source": [
    "#Poverty Count\n",
    "charlotte_plot = plt.plot(years, charlotte_data['Poverty Count'] , color='blue', label = 'Charlotte')\n",
    "san_francisco_plot = plt.plot(years, san_francisco_data['Poverty Count'] , color='red', label = 'San Francisco')\n",
    "\n",
    "plt.legend(loc=\"best\")\n",
    "\n",
    "plt.title('Charlotte vs San Francisco Poverty')\n",
    "plt.xlabel(\"Year\")\n",
    "plt.ylabel(\"Poverty Count\")\n",
    "\n",
    "plt.show()\n",
    "plt.savefig(\"LinegraphFigs/CLT_vs_SF_Poverty\")"
   ]
  },
  {
   "cell_type": "code",
   "execution_count": 50,
   "metadata": {},
   "outputs": [
    {
     "data": {
      "image/png": "[encoded data removed]",
      "text/plain": [
       "<Figure size 432x288 with 1 Axes>"
      ]
     },
     "metadata": {
      "needs_background": "light"
     },
     "output_type": "display_data"
    },
    {
     "data": {
      "text/plain": [
       "<Figure size 432x288 with 0 Axes>"
      ]
     },
     "metadata": {},
     "output_type": "display_data"
    }
   ],
   "source": [
    "#Unemployment Count\n",
    "charlotte_plot = plt.plot(years, charlotte_data['Unemployment Count'] , color='blue', label = 'Charlotte')\n",
    "san_francisco_plot = plt.plot(years, san_francisco_data['Unemployment Count'] , color='red', label = 'San Francisco')\n",
    "\n",
    "plt.legend(loc=\"best\")\n",
    "\n",
    "plt.title('Charlotte vs San Francisco Unemployment')\n",
    "plt.xlabel(\"Year\")\n",
    "plt.ylabel(\"Unemployment Count\")\n",
    "\n",
    "plt.show()\n",
    "plt.savefig(\"LinegraphFigs/CLT_vs_SF_Unemployment\")"
   ]
  },
  {
   "cell_type": "code",
   "execution_count": null,
   "metadata": {},
   "outputs": [],
   "source": []
  }
 ],
 "metadata": {
  "kernelspec": {
   "display_name": "Python [conda env:PythonData]",
   "language": "python",
   "name": "conda-env-PythonData-py"
  },
  "language_info": {
   "codemirror_mode": {
    "name": "ipython",
    "version": 3
   },
   "file_extension": ".py",
   "mimetype": "text/x-python",
   "name": "python",
   "nbconvert_exporter": "python",
   "pygments_lexer": "ipython3",
   "version": "3.6.10"
  }
 },
 "nbformat": 4,
 "nbformat_minor": 4
}
